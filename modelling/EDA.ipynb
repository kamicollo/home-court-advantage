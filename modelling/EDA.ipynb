{
 "cells": [
  {
   "cell_type": "code",
   "execution_count": 1,
   "id": "21adb664-bab9-4115-9794-9dcd80bb4ce2",
   "metadata": {},
   "outputs": [],
   "source": [
    "%load_ext watermark"
   ]
  },
  {
   "cell_type": "code",
   "execution_count": 2,
   "id": "99615ee5-5b69-41c0-9667-220a4d59d3fa",
   "metadata": {},
   "outputs": [
    {
     "name": "stdout",
     "output_type": "stream",
     "text": [
      "sqlite3: 2.6.0\n",
      "numpy  : 1.22.3\n",
      "pandas : 1.4.2\n",
      "altair : 4.2.0\n",
      "sys    : 3.9.12 | packaged by conda-forge | (main, Mar 24 2022, 23:25:59) \n",
      "[GCC 10.3.0]\n",
      "\n"
     ]
    }
   ],
   "source": [
    "import pandas as pd\n",
    "import itertools as itt\n",
    "import numpy as np\n",
    "import importlib as imp\n",
    "from pathlib import Path\n",
    "import sqlite3 as sq\n",
    "import altair as alt\n",
    "\n",
    "import sys\n",
    "sys.path.append(\"../\")\n",
    "\n",
    "DB_PATH = '../data/data.sqlite.db'\n",
    "VIZ_PATH = '../vis/'\n",
    "\n",
    "\n",
    "%watermark --iversions"
   ]
  },
  {
   "cell_type": "code",
   "execution_count": 3,
   "id": "ceeb4aca-da7d-4c8b-8a39-8fc709e72bb5",
   "metadata": {},
   "outputs": [
    {
     "name": "stdout",
     "output_type": "stream",
     "text": [
      "Total advantage 3.793\n"
     ]
    }
   ],
   "source": [
    "with sq.connect(DB_PATH) as conn:\n",
    "        sql = \"select `start-year`, AVG(`home-points` - `away-points`) as `home-advantage` from games JOIN seasons ON seasons.id = games.season_id GROUP BY `start-year`;\"        \n",
    "        adv_df = pd.read_sql_query(sql, conn)\n",
    "        cur = conn.cursor()\n",
    "        cur.execute(\"select AVG(`home-points` - `away-points`) from games\")\n",
    "        diff = cur.fetchone()        \n",
    "        print(\"Total advantage {:.3f}\".format(diff[0]))"
   ]
  },
  {
   "cell_type": "code",
   "execution_count": 4,
   "id": "7f2bbf97-2966-417c-92ca-30f5d31a7293",
   "metadata": {},
   "outputs": [],
   "source": [
    "adv_df['rolling-advantage'] = adv_df['home-advantage'].rolling(3).mean()"
   ]
  },
  {
   "cell_type": "code",
   "execution_count": 5,
   "id": "cb238e42-c01d-4f87-a644-2955c2c6b20e",
   "metadata": {},
   "outputs": [
    {
     "data": {
      "text/html": [
       "\n",
       "<div id=\"altair-viz-e653e807cce746eebd22e45e1fec425f\"></div>\n",
       "<script type=\"text/javascript\">\n",
       "  var VEGA_DEBUG = (typeof VEGA_DEBUG == \"undefined\") ? {} : VEGA_DEBUG;\n",
       "  (function(spec, embedOpt){\n",
       "    let outputDiv = document.currentScript.previousElementSibling;\n",
       "    if (outputDiv.id !== \"altair-viz-e653e807cce746eebd22e45e1fec425f\") {\n",
       "      outputDiv = document.getElementById(\"altair-viz-e653e807cce746eebd22e45e1fec425f\");\n",
       "    }\n",
       "    const paths = {\n",
       "      \"vega\": \"https://cdn.jsdelivr.net/npm//vega@5?noext\",\n",
       "      \"vega-lib\": \"https://cdn.jsdelivr.net/npm//vega-lib?noext\",\n",
       "      \"vega-lite\": \"https://cdn.jsdelivr.net/npm//vega-lite@4.17.0?noext\",\n",
       "      \"vega-embed\": \"https://cdn.jsdelivr.net/npm//vega-embed@6?noext\",\n",
       "    };\n",
       "\n",
       "    function maybeLoadScript(lib, version) {\n",
       "      var key = `${lib.replace(\"-\", \"\")}_version`;\n",
       "      return (VEGA_DEBUG[key] == version) ?\n",
       "        Promise.resolve(paths[lib]) :\n",
       "        new Promise(function(resolve, reject) {\n",
       "          var s = document.createElement('script');\n",
       "          document.getElementsByTagName(\"head\")[0].appendChild(s);\n",
       "          s.async = true;\n",
       "          s.onload = () => {\n",
       "            VEGA_DEBUG[key] = version;\n",
       "            return resolve(paths[lib]);\n",
       "          };\n",
       "          s.onerror = () => reject(`Error loading script: ${paths[lib]}`);\n",
       "          s.src = paths[lib];\n",
       "        });\n",
       "    }\n",
       "\n",
       "    function showError(err) {\n",
       "      outputDiv.innerHTML = `<div class=\"error\" style=\"color:red;\">${err}</div>`;\n",
       "      throw err;\n",
       "    }\n",
       "\n",
       "    function displayChart(vegaEmbed) {\n",
       "      vegaEmbed(outputDiv, spec, embedOpt)\n",
       "        .catch(err => showError(`Javascript Error: ${err.message}<br>This usually means there's a typo in your chart specification. See the javascript console for the full traceback.`));\n",
       "    }\n",
       "\n",
       "    if(typeof define === \"function\" && define.amd) {\n",
       "      requirejs.config({paths});\n",
       "      require([\"vega-embed\"], displayChart, err => showError(`Error loading script: ${err.message}`));\n",
       "    } else {\n",
       "      maybeLoadScript(\"vega\", \"5\")\n",
       "        .then(() => maybeLoadScript(\"vega-lite\", \"4.17.0\"))\n",
       "        .then(() => maybeLoadScript(\"vega-embed\", \"6\"))\n",
       "        .catch(showError)\n",
       "        .then(() => displayChart(vegaEmbed));\n",
       "    }\n",
       "  })({\"config\": {\"view\": {\"continuousWidth\": 400, \"continuousHeight\": 300}}, \"layer\": [{\"mark\": \"bar\", \"encoding\": {\"x\": {\"field\": \"start-year\", \"title\": \"Start year of the season\", \"type\": \"ordinal\"}, \"y\": {\"axis\": {\"grid\": false}, \"field\": \"home-advantage\", \"scale\": {\"domain\": [-2, 10]}, \"title\": \"Home court advantage\", \"type\": \"quantitative\"}}}, {\"mark\": {\"type\": \"line\", \"color\": \"red\"}, \"encoding\": {\"x\": {\"field\": \"start-year\", \"title\": \"Start year of the season\", \"type\": \"ordinal\"}, \"y\": {\"axis\": {\"grid\": false}, \"field\": \"rolling-advantage\", \"scale\": {\"domain\": [-2, 10]}, \"title\": \"Home court advantage\", \"type\": \"quantitative\"}}}], \"data\": {\"name\": \"data-b83a5544d313a171346d52107d2bc58f\"}, \"height\": 200, \"width\": 500, \"$schema\": \"https://vega.github.io/schema/vega-lite/v4.17.0.json\", \"datasets\": {\"data-b83a5544d313a171346d52107d2bc58f\": [{\"start-year\": \"1993\", \"home-advantage\": 1.6446700507614214, \"rolling-advantage\": null}, {\"start-year\": \"1994\", \"home-advantage\": 5.012711864406779, \"rolling-advantage\": null}, {\"start-year\": \"1995\", \"home-advantage\": 5.944444444444445, \"rolling-advantage\": 4.200608786537548}, {\"start-year\": \"1996\", \"home-advantage\": 5.553921568627451, \"rolling-advantage\": 5.5036926258262255}, {\"start-year\": \"1997\", \"home-advantage\": 4.651315789473684, \"rolling-advantage\": 5.383227267515193}, {\"start-year\": \"1998\", \"home-advantage\": 4.128865979381444, \"rolling-advantage\": 4.778034445827526}, {\"start-year\": \"1999\", \"home-advantage\": 5.102409638554217, \"rolling-advantage\": 4.627530469136448}, {\"start-year\": \"2000\", \"home-advantage\": 3.0061349693251533, \"rolling-advantage\": 4.079136862420271}, {\"start-year\": \"2001\", \"home-advantage\": 3.7771084337349397, \"rolling-advantage\": 3.96188434720477}, {\"start-year\": \"2002\", \"home-advantage\": 4.945, \"rolling-advantage\": 3.9094144676866978}, {\"start-year\": \"2003\", \"home-advantage\": 5.82089552238806, \"rolling-advantage\": 4.847667985374334}, {\"start-year\": \"2004\", \"home-advantage\": 4.352459016393443, \"rolling-advantage\": 5.039451512927168}, {\"start-year\": \"2005\", \"home-advantage\": 3.5753424657534247, \"rolling-advantage\": 4.582899001511643}, {\"start-year\": \"2006\", \"home-advantage\": 5.623655913978495, \"rolling-advantage\": 4.517152465375121}, {\"start-year\": \"2007\", \"home-advantage\": 3.954954954954955, \"rolling-advantage\": 4.384651111562292}, {\"start-year\": \"2008\", \"home-advantage\": 4.639097744360902, \"rolling-advantage\": 4.73923620443145}, {\"start-year\": \"2009\", \"home-advantage\": 4.308988764044944, \"rolling-advantage\": 4.301013821120267}, {\"start-year\": \"2010\", \"home-advantage\": 2.7613636363636362, \"rolling-advantage\": 3.903150048256494}, {\"start-year\": \"2011\", \"home-advantage\": 3.9060402684563758, \"rolling-advantage\": 3.658797556288319}, {\"start-year\": \"2012\", \"home-advantage\": -0.5343511450381679, \"rolling-advantage\": 2.044350919927281}, {\"start-year\": \"2013\", \"home-advantage\": 5.058201058201059, \"rolling-advantage\": 2.8099633938730886}, {\"start-year\": \"2014\", \"home-advantage\": 1.5896414342629481, \"rolling-advantage\": 2.037830449141946}, {\"start-year\": \"2015\", \"home-advantage\": 3.4739336492890995, \"rolling-advantage\": 3.3739253805843687}, {\"start-year\": \"2016\", \"home-advantage\": 4.275229357798165, \"rolling-advantage\": 3.112934813783404}, {\"start-year\": \"2017\", \"home-advantage\": 4.013698630136986, \"rolling-advantage\": 3.92095387907475}, {\"start-year\": \"2018\", \"home-advantage\": 2.2543103448275863, \"rolling-advantage\": 3.514412777587579}, {\"start-year\": \"2019\", \"home-advantage\": 4.128378378378378, \"rolling-advantage\": 3.465462451114316}, {\"start-year\": \"2020\", \"home-advantage\": 2.526086956521739, \"rolling-advantage\": 2.9695918932425673}, {\"start-year\": \"2021\", \"home-advantage\": 1.40625, \"rolling-advantage\": 2.6869051116333718}]}}, {\"mode\": \"vega-lite\"});\n",
       "</script>"
      ],
      "text/plain": [
       "alt.LayerChart(...)"
      ]
     },
     "execution_count": 5,
     "metadata": {},
     "output_type": "execute_result"
    }
   ],
   "source": [
    "c1 = alt.Chart(adv_df).mark_bar().encode(\n",
    "    x=alt.X(\"start-year:O\", title=\"Start year of the season\"),\n",
    "    y=alt.Y(\"home-advantage\", title=\"Home court advantage\", axis=alt.Axis(grid=False), scale=alt.Scale(domain=(-2, 10)))\n",
    ")\n",
    "\n",
    "c2 = alt.Chart(adv_df).mark_line(color=\"red\").encode(\n",
    "    x=alt.X(\"start-year:O\", title=\"Start year of the season\"),\n",
    "    y=alt.Y(\"rolling-advantage\", title=\"Home court advantage\", axis=alt.Axis(grid=False), scale=alt.Scale(domain=(-2, 10)))\n",
    ")\n",
    "\n",
    "c = (c1 + c2).properties(width=500, height=200)\n",
    "c"
   ]
  }
 ],
 "metadata": {
  "kernelspec": {
   "display_name": "pymc4",
   "language": "python",
   "name": "pymc4"
  },
  "language_info": {
   "codemirror_mode": {
    "name": "ipython",
    "version": 3
   },
   "file_extension": ".py",
   "mimetype": "text/x-python",
   "name": "python",
   "nbconvert_exporter": "python",
   "pygments_lexer": "ipython3",
   "version": "3.9.12"
  }
 },
 "nbformat": 4,
 "nbformat_minor": 5
}
