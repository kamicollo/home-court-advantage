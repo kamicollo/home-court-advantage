{
 "cells": [
  {
   "cell_type": "markdown",
   "metadata": {},
   "source": [
    "# Bayesian inference"
   ]
  },
  {
   "cell_type": "code",
   "execution_count": 2,
   "metadata": {},
   "outputs": [],
   "source": [
    "%load_ext watermark"
   ]
  },
  {
   "cell_type": "code",
   "execution_count": 224,
   "metadata": {},
   "outputs": [
    {
     "name": "stdout",
     "output_type": "stream",
     "text": [
      "sqlite3   : 2.6.0\n",
      "sys       : 3.9.12 | packaged by conda-forge | (main, Mar 24 2022, 23:25:59) \n",
      "[GCC 10.3.0]\n",
      "pandas    : 1.4.2\n",
      "pymc      : 4.0.0b6\n",
      "arviz     : 0.12.0\n",
      "graphviz  : 0.19.1\n",
      "matplotlib: 3.5.1\n",
      "numpy     : 1.22.3\n",
      "\n"
     ]
    }
   ],
   "source": [
    "import pymc as pm\n",
    "import sqlite3 as sq\n",
    "import pandas as pd\n",
    "import itertools as itt\n",
    "import arviz as az\n",
    "import graphviz\n",
    "import numpy as np\n",
    "import importlib as imp\n",
    "from collections import defaultdict\n",
    "\n",
    "from models import OneAdvantage\n",
    "from models import TeamSpecificAdvantage\n",
    "\n",
    "import sys\n",
    "sys.path.append(\"../\")\n",
    "\n",
    "DB_PATH = '../data/data.sqlite.db'\n",
    "\n",
    "%watermark --iversions"
   ]
  },
  {
   "cell_type": "markdown",
   "metadata": {},
   "source": [
    "# Data preparation"
   ]
  },
  {
   "cell_type": "markdown",
   "metadata": {},
   "source": [
    "First, I retrieve all games on record, generate home-away pairs and define identifiers to those pairs, and calculate correct score differences."
   ]
  },
  {
   "cell_type": "code",
   "execution_count": 208,
   "metadata": {},
   "outputs": [],
   "source": [
    "with sq.connect(DB_PATH) as conn:\n",
    "    sql = \"\"\"\n",
    "    SELECT `home-points`, `away-points`, `home-team-id`, `away-team-id`, `start-year`, `regular` FROM games\n",
    "    JOIN seasons ON games.season_id = seasons.id\n",
    "    ORDER BY `game-id`\n",
    "    ;\n",
    "    \"\"\"\n",
    "    all_games = pd.read_sql_query(sql, conn)\n",
    "\n",
    "#convert types\n",
    "all_games['home-team-id']= all_games['home-team-id'].astype(\"int\")\n",
    "all_games['away-team-id']= all_games['away-team-id'].astype(\"int\")\n",
    "all_games['start-year']= all_games['start-year'].astype(\"int\")\n",
    "\n",
    "#apply identifiers to the dataframe\n",
    "all_games['pair_id'] = all_games.apply(lambda x: (max(x['home-team-id'], x['away-team-id']), min(x['home-team-id'], x['away-team-id'])), axis=1)\n",
    "\n",
    "#define is_home variable and set score with a correct sign\n",
    "all_games['is_home'] = (all_games['home-team-id'] > all_games['away-team-id']) * 1\n",
    "all_games['is_home'] = all_games['is_home'].apply(lambda x: x if x == 1 else -1)\n",
    "all_games['score_diff'] = (all_games['home-points'] - all_games['away-points']) * all_games['is_home']"
   ]
  },
  {
   "cell_type": "markdown",
   "metadata": {},
   "source": [
    "## Data calculation function\n",
    "\n",
    "Function that returns computed variables used by different models."
   ]
  },
  {
   "cell_type": "code",
   "execution_count": 211,
   "metadata": {},
   "outputs": [],
   "source": [
    "def compute_data(games, cut_off_year = 2020, informative_priors = None):\n",
    "    \n",
    "    last_2_seasons = games[games['start-year'] >= cut_off_year]    \n",
    "    pairs = pd.get_dummies(last_2_seasons['pair_id'])\n",
    "    pair_vals = pairs.values\n",
    "    is_home = last_2_seasons['is_home'].values.reshape(-1 , 1)\n",
    "    score_diffs = last_2_seasons['score_diff'].values.reshape(-1, 1)\n",
    "    is_cup = 1 - last_2_seasons['Regular'].values.reshape(-1, 1)\n",
    "    no_obs, no_pairs = pair_vals.shape\n",
    "    home_team_dummy = pd.get_dummies(last_2_seasons['home-team-id']).values\n",
    "    away_team_dummy = pd.get_dummies(last_2_seasons['away-team-id']).values\n",
    "    \n",
    "    if not informative_priors:\n",
    "        team_pair_advantages = np.zeros((no_pairs, 1))\n",
    "        \n",
    "    else:\n",
    "        begin_cut_off = cut_off_year - informative_priors\n",
    "        mask = (games['start-year'] < cut_off_year) & (games['start-year'] >= begin_cut_off)\n",
    "        prior_seasons = games[mask]    \n",
    "        average_diffs = prior_seasons[['pair_id', 'score_diff']].groupby('pair_id').mean().reset_index()\n",
    "\n",
    "        sorted_diffs = []\n",
    "        for p in pairs.columns.values:\n",
    "            v = average_diffs['score_diff'][average_diffs['pair_id'] == p].values        \n",
    "            if len(v) == 0:\n",
    "                v = [0]\n",
    "            sorted_diffs.append(v)\n",
    "\n",
    "        team_pair_advantages = np.fromiter(itt.chain(*sorted_diffs), dtype=float).reshape(-1, 1)\n",
    "        \n",
    "    \n",
    "    return {\n",
    "        'pair_vals' : pair_vals,\n",
    "        'pair_ids': pairs.columns.values,\n",
    "        'is_game_home': is_home,\n",
    "        'score_diffs': score_diffs,\n",
    "        'is_cup': is_cup,\n",
    "        'no_obs': no_obs,\n",
    "        'no_pairs': no_pairs,\n",
    "        'home_teams': home_team_dummy,\n",
    "        'away_teams': away_team_dummy,\n",
    "        'no_home_teams': home_team_dummy.shape[1],\n",
    "        'no_away_teams': away_team_dummy.shape[1],\n",
    "        'pair_priors' : team_pair_advantages,        \n",
    "    }\n"
   ]
  },
  {
   "cell_type": "markdown",
   "metadata": {},
   "source": [
    "## Model definitions\n",
    "\n",
    "Two versions are created: \n",
    " - using uninformative priors for team strenghts\n",
    " - using the average pair-wise score from 2 seasons prior the data used as the prior for team strenghts\n",
    "\n",
    "### Model #1 - Homecourt advantage is a overall phenomenon"
   ]
  },
  {
   "cell_type": "code",
   "execution_count": 225,
   "metadata": {},
   "outputs": [],
   "source": [
    "models = defaultdict(dict)"
   ]
  },
  {
   "cell_type": "code",
   "execution_count": 226,
   "metadata": {},
   "outputs": [],
   "source": [
    "imp.reload(OneAdvantage)\n",
    "with pm.Model() as model:\n",
    "    data = compute_data(all_games, cut_off_year=2020, informative_priors=None)    \n",
    "    OneAdvantage.OneAdvantage(data = data)\n",
    "    models['single_flat_model']['pair_ids'] = data['pair_ids']\n",
    "    models['single_flat_model']['model'] = model\n",
    "\n",
    "with pm.Model() as model:\n",
    "    data = compute_data(all_games, cut_off_year=2020, informative_priors=2)    \n",
    "    OneAdvantage.OneAdvantage(data = data)\n",
    "    models['single_empirical_model']['pair_ids'] = data['pair_ids']\n",
    "    models['single_empirical_model']['model'] = model"
   ]
  },
  {
   "cell_type": "markdown",
   "metadata": {},
   "source": [
    "### Model #2 - homecourt advantage varies by team"
   ]
  },
  {
   "cell_type": "code",
   "execution_count": 227,
   "metadata": {},
   "outputs": [],
   "source": [
    "imp.reload(TeamSpecificAdvantage)\n",
    "with pm.Model() as model:\n",
    "    data = compute_data(all_games, cut_off_year=2020, informative_priors=None)    \n",
    "    TeamSpecificAdvantage.TeamSpecificAdvantage(data = data)\n",
    "    models['team_flat_model']['pair_ids'] = data['pair_ids']\n",
    "    models['team_flat_model']['model'] = model\n",
    "\n",
    "with pm.Model() as model:\n",
    "    data = compute_data(all_games, cut_off_year=2020, informative_priors=2)    \n",
    "    TeamSpecificAdvantage.TeamSpecificAdvantage(data = data)\n",
    "    models['team_empirical_model']['pair_ids'] = data['pair_ids']\n",
    "    models['team_empirical_model']['model'] = model"
   ]
  },
  {
   "cell_type": "markdown",
   "metadata": {},
   "source": [
    "## Visualize and save the models"
   ]
  },
  {
   "cell_type": "code",
   "execution_count": 229,
   "metadata": {},
   "outputs": [
    {
     "data": {
      "text/plain": [
       "'../results/single-model.png'"
      ]
     },
     "execution_count": 229,
     "metadata": {},
     "output_type": "execute_result"
    }
   ],
   "source": [
    "pm.model_graph.model_to_graphviz(models['team_flat_model']['model']).render(\"../results/team-model\", format='png')\n",
    "pm.model_graph.model_to_graphviz(models['single_flat_model']['model']).render(\"../results/single-model\", format='png')\n",
    "\n",
    "#to adjust ratio: dot -Tpng -Gratio=0.7 -Gdpi=100 -ofoo.png team-flat"
   ]
  },
  {
   "cell_type": "markdown",
   "metadata": {},
   "source": [
    "## MCMC\n",
    "\n",
    "Run MCMC and save the traces"
   ]
  },
  {
   "cell_type": "code",
   "execution_count": 232,
   "metadata": {},
   "outputs": [
    {
     "name": "stdout",
     "output_type": "stream",
     "text": [
      "single_flat_model\n",
      "single_empirical_model\n",
      "team_flat_model\n",
      "team_empirical_model\n"
     ]
    }
   ],
   "source": [
    "for name, model in models.items():\n",
    "    print(name)\n",
    "    trace = pm.sample(\n",
    "        draws=2_000,        \n",
    "        tune=500,\n",
    "        cores=6,        \n",
    "        chains=4,        \n",
    "    )\n",
    "    az.to_netcdf(trace, \"../traces/{}.netcdf\".format(name))"
   ]
  }
 ],
 "metadata": {
  "interpreter": {
   "hash": "9a0eed5a239e5616891a884969c665ca0b86fc2fde1f66977325082d5a2189cd"
  },
  "kernelspec": {
   "display_name": "pymc4",
   "language": "python",
   "name": "pymc4"
  },
  "language_info": {
   "codemirror_mode": {
    "name": "ipython",
    "version": 3
   },
   "file_extension": ".py",
   "mimetype": "text/x-python",
   "name": "python",
   "nbconvert_exporter": "python",
   "pygments_lexer": "ipython3",
   "version": "3.9.12"
  },
  "orig_nbformat": 4
 },
 "nbformat": 4,
 "nbformat_minor": 2
}
