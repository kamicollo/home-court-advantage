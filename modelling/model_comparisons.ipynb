{
 "cells": [
  {
   "cell_type": "code",
   "execution_count": 2,
   "id": "0344307b-a4f4-4c78-ad19-27156c62436f",
   "metadata": {},
   "outputs": [],
   "source": [
    "%load_ext watermark"
   ]
  },
  {
   "cell_type": "code",
   "execution_count": 8,
   "id": "6c5af1f5-db5c-4ae7-8f7b-a9aff74ae967",
   "metadata": {},
   "outputs": [
    {
     "name": "stdout",
     "output_type": "stream",
     "text": [
      "arviz : 0.12.0\n",
      "pandas: 1.4.2\n",
      "pymc  : 4.0.0b6\n",
      "\n"
     ]
    }
   ],
   "source": [
    "import pymc as pm\n",
    "import pandas as pd\n",
    "import itertools as itt\n",
    "import arviz as az\n",
    "from pathlib import Path\n",
    "\n",
    "TRACE_PATH = '../traces/'\n",
    "\n",
    "%watermark --iversions"
   ]
  },
  {
   "cell_type": "code",
   "execution_count": 22,
   "id": "47e96f17-13c5-4a1a-ad20-8f2021fbebe7",
   "metadata": {},
   "outputs": [],
   "source": [
    "traces = {p.stem : {\"path\": str(p.absolute())} for p in Path(TRACE_PATH).glob(\"*.netcdf\")}"
   ]
  },
  {
   "cell_type": "code",
   "execution_count": 27,
   "id": "2350601f-9e59-4106-8188-6131c45f0845",
   "metadata": {},
   "outputs": [],
   "source": [
    "for t in traces.values():\n",
    "    t['trace'] = az.from_netcdf(t['path'])\n",
    "    t['summary'] = az.summary(t['trace'], hdi_prob=0.95)"
   ]
  },
  {
   "cell_type": "code",
   "execution_count": 29,
   "id": "ba78fce2-4d59-4c8c-a88e-2a898c09e722",
   "metadata": {},
   "outputs": [
    {
     "name": "stdout",
     "output_type": "stream",
     "text": [
      "single_flat_model\n",
      "                          mean     sd  hdi_2.5%  hdi_97.5%  mcse_mean  \\\n",
      "cup_impact[0, 0]        -1.336  2.451    -5.838      0.847      0.138   \n",
      "regular_advantage[0, 0]  2.093  1.025     0.329      4.056      0.074   \n",
      "\n",
      "                         mcse_sd  ess_bulk  ess_tail  r_hat  \n",
      "cup_impact[0, 0]           0.137     314.0     776.0   1.02  \n",
      "regular_advantage[0, 0]    0.054     240.0     620.0   1.02  \n",
      "single_empirical_model\n",
      "                          mean     sd  hdi_2.5%  hdi_97.5%  mcse_mean  \\\n",
      "cup_impact[0, 0]        -0.208  0.923    -1.686      1.085      0.098   \n",
      "regular_advantage[0, 0]  2.651  1.104     0.613      4.176      0.135   \n",
      "\n",
      "                         mcse_sd  ess_bulk  ess_tail  r_hat  \n",
      "cup_impact[0, 0]           0.069      63.0    1539.0   1.04  \n",
      "regular_advantage[0, 0]    0.118      47.0     868.0   1.06  \n",
      "team_flat_model\n",
      "                          mean     sd  hdi_2.5%  hdi_97.5%  mcse_mean  \\\n",
      "cup_impact[0, 0]         0.015  0.399    -0.701      0.807      0.029   \n",
      "regular_advantage[0, 0]  3.272  1.409    -0.027      5.344      0.033   \n",
      "\n",
      "                         mcse_sd  ess_bulk  ess_tail  r_hat  \n",
      "cup_impact[0, 0]           0.021     236.0     689.0   1.03  \n",
      "regular_advantage[0, 0]    0.027    1420.0    2860.0   1.01  \n",
      "team_empirical_model\n",
      "                          mean     sd  hdi_2.5%  hdi_97.5%  mcse_mean  \\\n",
      "cup_impact[0, 0]        -0.152  0.488    -1.381      0.629      0.014   \n",
      "regular_advantage[0, 0]  2.410  1.120     0.453      4.241      0.179   \n",
      "\n",
      "                         mcse_sd  ess_bulk  ess_tail  r_hat  \n",
      "cup_impact[0, 0]           0.010    1118.0    1498.0   1.28  \n",
      "regular_advantage[0, 0]    0.129      50.0     821.0   1.06  \n"
     ]
    }
   ],
   "source": [
    "for name, trace in traces.items():\n",
    "    print(name)\n",
    "    print(trace['summary'].loc[[\"cup_impact[0, 0]\", \"regular_advantage[0, 0]\"], :])"
   ]
  },
  {
   "cell_type": "code",
   "execution_count": 31,
   "id": "ac66c15e-dc19-45a0-941b-2ec60a5c64d4",
   "metadata": {},
   "outputs": [
    {
     "name": "stderr",
     "output_type": "stream",
     "text": [
      "/home/aurimas/apps/anaconda3/envs/pymc-dev-py39/lib/python3.9/site-packages/arviz/stats/stats.py:1048: RuntimeWarning: overflow encountered in exp\n",
      "  weights = 1 / np.exp(len_scale - len_scale[:, None]).sum(axis=1)\n",
      "/home/aurimas/apps/anaconda3/envs/pymc-dev-py39/lib/python3.9/site-packages/numpy/core/_methods.py:48: RuntimeWarning: overflow encountered in reduce\n",
      "  return umr_sum(a, axis, dtype, out, keepdims, initial, where)\n",
      "/home/aurimas/apps/anaconda3/envs/pymc-dev-py39/lib/python3.9/site-packages/arviz/stats/stats.py:811: UserWarning: Estimated shape parameter of Pareto distribution is greater than 0.7 for one or more samples. You should consider using a more robust model, this is because importance sampling is less likely to work well if the marginal posterior and LOO posterior are very different. This is more likely to happen with a non-robust model and highly influential observations.\n",
      "  warnings.warn(\n",
      "/home/aurimas/apps/anaconda3/envs/pymc-dev-py39/lib/python3.9/site-packages/arviz/stats/stats.py:1048: RuntimeWarning: overflow encountered in exp\n",
      "  weights = 1 / np.exp(len_scale - len_scale[:, None]).sum(axis=1)\n",
      "/home/aurimas/apps/anaconda3/envs/pymc-dev-py39/lib/python3.9/site-packages/numpy/core/_methods.py:48: RuntimeWarning: overflow encountered in reduce\n",
      "  return umr_sum(a, axis, dtype, out, keepdims, initial, where)\n",
      "/home/aurimas/apps/anaconda3/envs/pymc-dev-py39/lib/python3.9/site-packages/arviz/stats/stats.py:811: UserWarning: Estimated shape parameter of Pareto distribution is greater than 0.7 for one or more samples. You should consider using a more robust model, this is because importance sampling is less likely to work well if the marginal posterior and LOO posterior are very different. This is more likely to happen with a non-robust model and highly influential observations.\n",
      "  warnings.warn(\n",
      "/home/aurimas/apps/anaconda3/envs/pymc-dev-py39/lib/python3.9/site-packages/arviz/stats/stats.py:1048: RuntimeWarning: overflow encountered in exp\n",
      "  weights = 1 / np.exp(len_scale - len_scale[:, None]).sum(axis=1)\n",
      "/home/aurimas/apps/anaconda3/envs/pymc-dev-py39/lib/python3.9/site-packages/numpy/core/_methods.py:48: RuntimeWarning: overflow encountered in reduce\n",
      "  return umr_sum(a, axis, dtype, out, keepdims, initial, where)\n",
      "/home/aurimas/apps/anaconda3/envs/pymc-dev-py39/lib/python3.9/site-packages/arviz/stats/stats.py:811: UserWarning: Estimated shape parameter of Pareto distribution is greater than 0.7 for one or more samples. You should consider using a more robust model, this is because importance sampling is less likely to work well if the marginal posterior and LOO posterior are very different. This is more likely to happen with a non-robust model and highly influential observations.\n",
      "  warnings.warn(\n",
      "/home/aurimas/apps/anaconda3/envs/pymc-dev-py39/lib/python3.9/site-packages/arviz/stats/stats.py:1048: RuntimeWarning: overflow encountered in exp\n",
      "  weights = 1 / np.exp(len_scale - len_scale[:, None]).sum(axis=1)\n",
      "/home/aurimas/apps/anaconda3/envs/pymc-dev-py39/lib/python3.9/site-packages/arviz/stats/stats.py:811: UserWarning: Estimated shape parameter of Pareto distribution is greater than 0.7 for one or more samples. You should consider using a more robust model, this is because importance sampling is less likely to work well if the marginal posterior and LOO posterior are very different. This is more likely to happen with a non-robust model and highly influential observations.\n",
      "  warnings.warn(\n"
     ]
    },
    {
     "data": {
      "text/html": [
       "<div>\n",
       "<style scoped>\n",
       "    .dataframe tbody tr th:only-of-type {\n",
       "        vertical-align: middle;\n",
       "    }\n",
       "\n",
       "    .dataframe tbody tr th {\n",
       "        vertical-align: top;\n",
       "    }\n",
       "\n",
       "    .dataframe thead th {\n",
       "        text-align: right;\n",
       "    }\n",
       "</style>\n",
       "<table border=\"1\" class=\"dataframe\">\n",
       "  <thead>\n",
       "    <tr style=\"text-align: right;\">\n",
       "      <th></th>\n",
       "      <th>rank</th>\n",
       "      <th>loo</th>\n",
       "      <th>p_loo</th>\n",
       "      <th>d_loo</th>\n",
       "      <th>weight</th>\n",
       "      <th>se</th>\n",
       "      <th>dse</th>\n",
       "      <th>warning</th>\n",
       "      <th>loo_scale</th>\n",
       "    </tr>\n",
       "  </thead>\n",
       "  <tbody>\n",
       "    <tr>\n",
       "      <th>team_empirical_model</th>\n",
       "      <td>0</td>\n",
       "      <td>1514.618287</td>\n",
       "      <td>29.783470</td>\n",
       "      <td>0.000000</td>\n",
       "      <td>8.777643e-01</td>\n",
       "      <td>19.059904</td>\n",
       "      <td>0.000000</td>\n",
       "      <td>True</td>\n",
       "      <td>deviance</td>\n",
       "    </tr>\n",
       "    <tr>\n",
       "      <th>single_empirical_model</th>\n",
       "      <td>1</td>\n",
       "      <td>1527.439632</td>\n",
       "      <td>26.555048</td>\n",
       "      <td>12.821345</td>\n",
       "      <td>5.394872e-14</td>\n",
       "      <td>18.812307</td>\n",
       "      <td>3.845026</td>\n",
       "      <td>True</td>\n",
       "      <td>deviance</td>\n",
       "    </tr>\n",
       "    <tr>\n",
       "      <th>single_flat_model</th>\n",
       "      <td>2</td>\n",
       "      <td>1536.528002</td>\n",
       "      <td>37.393995</td>\n",
       "      <td>21.909715</td>\n",
       "      <td>3.061349e-14</td>\n",
       "      <td>19.521192</td>\n",
       "      <td>9.794799</td>\n",
       "      <td>True</td>\n",
       "      <td>deviance</td>\n",
       "    </tr>\n",
       "    <tr>\n",
       "      <th>team_flat_model</th>\n",
       "      <td>3</td>\n",
       "      <td>1536.980015</td>\n",
       "      <td>33.206531</td>\n",
       "      <td>22.361728</td>\n",
       "      <td>1.222357e-01</td>\n",
       "      <td>21.415955</td>\n",
       "      <td>11.132313</td>\n",
       "      <td>True</td>\n",
       "      <td>deviance</td>\n",
       "    </tr>\n",
       "  </tbody>\n",
       "</table>\n",
       "</div>"
      ],
      "text/plain": [
       "                        rank          loo      p_loo      d_loo        weight  \\\n",
       "team_empirical_model       0  1514.618287  29.783470   0.000000  8.777643e-01   \n",
       "single_empirical_model     1  1527.439632  26.555048  12.821345  5.394872e-14   \n",
       "single_flat_model          2  1536.528002  37.393995  21.909715  3.061349e-14   \n",
       "team_flat_model            3  1536.980015  33.206531  22.361728  1.222357e-01   \n",
       "\n",
       "                               se        dse  warning loo_scale  \n",
       "team_empirical_model    19.059904   0.000000     True  deviance  \n",
       "single_empirical_model  18.812307   3.845026     True  deviance  \n",
       "single_flat_model       19.521192   9.794799     True  deviance  \n",
       "team_flat_model         21.415955  11.132313     True  deviance  "
      ]
     },
     "execution_count": 31,
     "metadata": {},
     "output_type": "execute_result"
    }
   ],
   "source": [
    "az.compare({n : t['trace'] for n,t in traces.items()}, scale='deviance')"
   ]
  },
  {
   "cell_type": "code",
   "execution_count": null,
   "id": "5542085c-9a97-46fb-9815-bdba5cfa768b",
   "metadata": {},
   "outputs": [],
   "source": []
  }
 ],
 "metadata": {
  "kernelspec": {
   "display_name": "pymc4",
   "language": "python",
   "name": "pymc4"
  },
  "language_info": {
   "codemirror_mode": {
    "name": "ipython",
    "version": 3
   },
   "file_extension": ".py",
   "mimetype": "text/x-python",
   "name": "python",
   "nbconvert_exporter": "python",
   "pygments_lexer": "ipython3",
   "version": "3.9.12"
  }
 },
 "nbformat": 4,
 "nbformat_minor": 5
}
