{
 "cells": [
  {
   "cell_type": "markdown",
   "metadata": {},
   "source": [
    "# Running MCMC models"
   ]
  },
  {
   "cell_type": "code",
   "execution_count": 1,
   "metadata": {},
   "outputs": [],
   "source": [
    "%load_ext watermark"
   ]
  },
  {
   "cell_type": "code",
   "execution_count": 2,
   "metadata": {},
   "outputs": [
    {
     "name": "stdout",
     "output_type": "stream",
     "text": [
      "sys     : 3.9.12 | packaged by conda-forge | (main, Mar 24 2022, 23:25:59) \n",
      "[GCC 10.3.0]\n",
      "numpy   : 1.22.3\n",
      "graphviz: 0.19.1\n",
      "pandas  : 1.4.2\n",
      "pymc    : 4.0.0b6\n",
      "arviz   : 0.12.0\n",
      "\n"
     ]
    }
   ],
   "source": [
    "import pymc as pm\n",
    "import pandas as pd\n",
    "import itertools as itt\n",
    "import arviz as az\n",
    "import graphviz\n",
    "import numpy as np\n",
    "import importlib as imp\n",
    "from collections import defaultdict\n",
    "import data_utils\n",
    "import pickle\n",
    "from pathlib import Path\n",
    "\n",
    "import sys\n",
    "sys.path.append(\"../\")\n",
    "\n",
    "from models import OneAdvantage\n",
    "from models import TeamSpecificAdvantage\n",
    "\n",
    "\n",
    "DB_PATH = '../data/data.sqlite.db'\n",
    "STORAGE_PATH = '../storage/'\n",
    "\n",
    "%watermark --iversions"
   ]
  },
  {
   "cell_type": "markdown",
   "metadata": {},
   "source": [
    "## Data preparation"
   ]
  },
  {
   "cell_type": "markdown",
   "metadata": {},
   "source": [
    "First, I retrieve all games on record, generate home-away pairs and define identifiers to those pairs, and calculate correct score differences."
   ]
  },
  {
   "cell_type": "code",
   "execution_count": 3,
   "metadata": {},
   "outputs": [],
   "source": [
    "imp.reload(data_utils)\n",
    "all_games = data_utils.get_data(DB_PATH)"
   ]
  },
  {
   "cell_type": "markdown",
   "metadata": {
    "tags": []
   },
   "source": [
    "## Data configurations\n",
    "\n",
    "Now, I outline possible configurations to cut the data for modeling purposes. I will build models using the following data:\n",
    " - A dataset spanning 5 seasons starting from 2017, where a team pair is treated as unique every season\n",
    " - A dataset that uses 1 season (2020) with non-informative team strength priors (each team strenght pair prior is zero)\n",
    " - A dataset that uses 1 season (2020) with informative team strength priors (each team strenght pair prior is equal to the average score difference between the same teams in the 2 seasons beforehand)"
   ]
  },
  {
   "cell_type": "code",
   "execution_count": 4,
   "metadata": {},
   "outputs": [],
   "source": [
    "data_configs = {\n",
    "    '5-seasons-non-informative' : {'start_year': 2012, \"seasons\": 10, \"informative_priors\" : None, \"by_season\" : True},\n",
    "    '2020-non-informative' : {'start_year': 2020, \"seasons\": 1, \"informative_priors\" : None, \"by_season\" : False},\n",
    "    '2020-informative' : {'start_year': 2020, \"seasons\": 1, \"informative_priors\" : 2, \"by_season\" : False}\n",
    "}"
   ]
  },
  {
   "cell_type": "markdown",
   "metadata": {},
   "source": [
    "## Strength advantage priors\n",
    "\n",
    "For homecourt advantage itself, I use two priors for the mean - 0 (uninformative) and 4 (as estimated by Sokol et al.). For computational reasons, I also experiment with two types of variance priors - a version where it is defined (I choose the value of 10) and a version where it is modelled with a half-Cauchy hyper-prior."
   ]
  },
  {
   "cell_type": "code",
   "execution_count": 5,
   "metadata": {},
   "outputs": [],
   "source": [
    "advantage_priors = {\n",
    "    'flat-hyper' : (0, None),\n",
    "    'flat-simple' : (0, 10),\n",
    "    'sokol-hyper' : (4, None),\n",
    "    'sokol-simple' : (4, 10),    \n",
    "}"
   ]
  },
  {
   "cell_type": "markdown",
   "metadata": {},
   "source": [
    "## Model definitions\n",
    "\n",
    "Two model specifications are used:\n",
    " - A model that treats home-court advantage as a uniform phenomenon across all teams\n",
    " - A model that allows for team specific home-court advantages (that are linked via a hyperparamer drawn from a \"global\" home-court advantage)"
   ]
  },
  {
   "cell_type": "code",
   "execution_count": 6,
   "metadata": {},
   "outputs": [],
   "source": [
    "models = {\n",
    "    \"single\": OneAdvantage.Mod,\n",
    "    \"team\": TeamSpecificAdvantage.Mod\n",
    "}"
   ]
  },
  {
   "cell_type": "markdown",
   "metadata": {},
   "source": [
    "## Run MCMC and save results"
   ]
  },
  {
   "cell_type": "code",
   "execution_count": null,
   "metadata": {},
   "outputs": [],
   "source": [
    "for dname, dconfig in data_configs.items():\n",
    "    \n",
    "    #get the dataset\n",
    "    dt = data_utils.compute_data(all_games, **dconfig)\n",
    "    \n",
    "    #create the folder\n",
    "    path = Path(STORAGE_PATH + dname)\n",
    "    path.mkdir(parents=True, exist_ok=True)\n",
    "    \n",
    "    #save the data\n",
    "    with path.joinpath('data.pickle').open(mode='wb') as f:\n",
    "        pickle.dump(dt, f)\n",
    "        \n",
    "    for pname, pconfig in advantage_priors.items():        \n",
    "        for mname, model in models.items():\n",
    "            print(\"\\n \\n\")\n",
    "            print(pname, mname)\n",
    "            print(\"------------------- \\n \\n\")\n",
    "            \n",
    "            TRACE_NAME = path.joinpath(\"{}-{}.netcdf\".format(pname, mname))\n",
    "            GRAPH_NAME = path.joinpath(\"{}-{}-graph\".format(pname, mname))\n",
    "            \n",
    "            if TRACE_NAME.exists():\n",
    "                print(\"Already exists - skipping \\n\")\n",
    "            else:\n",
    "                print(\"Tracing... \\n\")\n",
    "                #run the trace\n",
    "                with pm.Model() as m:    \n",
    "                    model(data = dt, advantage_prior=pconfig)                \n",
    "                    trace = pm.sample(draws=2_000, tune=500, cores=6, chains=2, random_seed=42)\n",
    "            \n",
    "                pm.model_graph.model_to_graphviz(m).render(GRAPH_NAME, format='png')\n",
    "                az.to_netcdf(trace, TRACE_NAME)\n",
    "            \n",
    "            \n",
    "                \n",
    "            "
   ]
  }
 ],
 "metadata": {
  "interpreter": {
   "hash": "9a0eed5a239e5616891a884969c665ca0b86fc2fde1f66977325082d5a2189cd"
  },
  "kernelspec": {
   "display_name": "pymc4",
   "language": "python",
   "name": "pymc4"
  },
  "language_info": {
   "codemirror_mode": {
    "name": "ipython",
    "version": 3
   },
   "file_extension": ".py",
   "mimetype": "text/x-python",
   "name": "python",
   "nbconvert_exporter": "python",
   "pygments_lexer": "ipython3",
   "version": "3.9.12"
  }
 },
 "nbformat": 4,
 "nbformat_minor": 4
}
