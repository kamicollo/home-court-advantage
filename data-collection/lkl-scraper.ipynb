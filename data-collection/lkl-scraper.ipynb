{
 "cells": [
  {
   "attachments": {},
   "cell_type": "markdown",
   "metadata": {},
   "source": [
    "# Collecting game-level data from the Lithuanian Basketball League website\n",
    "\n",
    "In this notebook, I collect all information about all games that have ever taken in the Lithuanian Basketball League since season 1993-1994, including the games played in the King Mindaugas Cup. All the information is saved into a SQLite database for further processing. "
   ]
  },
  {
   "cell_type": "code",
   "execution_count": 2,
   "metadata": {},
   "outputs": [],
   "source": [
    "%load_ext watermark"
   ]
  },
  {
   "cell_type": "code",
   "execution_count": 3,
   "metadata": {},
   "outputs": [
    {
     "name": "stdout",
     "output_type": "stream",
     "text": [
      "re      : 2.2.1\n",
      "lxml    : 4.9.2\n",
      "pandas  : 1.5.3\n",
      "requests: 2.28.2\n",
      "sqlite3 : 2.6.0\n",
      "\n"
     ]
    }
   ],
   "source": [
    "import requests \n",
    "from bs4 import BeautifulSoup\n",
    "import lxml\n",
    "import re\n",
    "import itertools as itt\n",
    "import pandas as pd\n",
    "from collections import defaultdict\n",
    "from tqdm import tqdm\n",
    "import sqlite3 as sq\n",
    "import datetime\n",
    "import locale\n",
    "locale.setlocale(locale.LC_TIME, 'lt_LT.UTF-8')\n",
    "\n",
    "DB_PATH = '../data/data.sqlite_2023.db'\n",
    "\n",
    "%watermark --iversions"
   ]
  },
  {
   "attachments": {},
   "cell_type": "markdown",
   "metadata": {},
   "source": [
    "## Data collection"
   ]
  },
  {
   "attachments": {},
   "cell_type": "markdown",
   "metadata": {},
   "source": [
    "First, I get a list of teams participating in the Lithuanian Basketball League in the season 2021-2022, with their IDs and seasons the teams participated in."
   ]
  },
  {
   "cell_type": "code",
   "execution_count": 4,
   "metadata": {},
   "outputs": [],
   "source": [
    "r = requests.get(\"https://lkl.lt/turnyrine-lentele\")\n",
    "teams = {tag.text.strip(): {'homepage':  tag[\"href\"], 'name': tag.text.strip()} for tag in BeautifulSoup(r.text, 'lxml').find_all('a', class_='team-title')}"
   ]
  },
  {
   "cell_type": "code",
   "execution_count": 5,
   "metadata": {},
   "outputs": [
    {
     "name": "stderr",
     "output_type": "stream",
     "text": [
      "100%|██████████| 12/12 [01:03<00:00,  5.28s/it]\n"
     ]
    }
   ],
   "source": [
    "def update_info(html, team):\n",
    "    \n",
    "    #get ID\n",
    "    pattern = re.compile(\"window.teamId = (\\d+);\")\n",
    "    match = pattern.search(html)\n",
    "    if match:\n",
    "        team['id'] = match.group(1)\n",
    "    else:\n",
    "        print(\"Warning - no team ID found for %s\" % team['name'])\n",
    "    \n",
    "    #get seasons\n",
    "    team['seasons'] = {}\n",
    "    seasons = [s.find_all(\"option\") for s in BeautifulSoup(html, 'lxml').find_all(class_=\"season-id\")]\n",
    "    if not seasons:\n",
    "        print(\"Warning - no seasons found for %s\" % team['name'])\n",
    "    for season in itt.chain(*seasons):\n",
    "        team['seasons'][season.text.strip()] = season['value']\n",
    "    \n",
    "\n",
    "for name, team in tqdm(teams.items()):\n",
    "    homepage = requests.get(team['homepage'])\n",
    "    update_info(homepage.text, team)\n",
    "    "
   ]
  },
  {
   "attachments": {},
   "cell_type": "markdown",
   "metadata": {},
   "source": [
    "Then, I collect all seasons observed with their associated IDs."
   ]
  },
  {
   "cell_type": "code",
   "execution_count": 6,
   "metadata": {},
   "outputs": [],
   "source": [
    "seasons = defaultdict(lambda: defaultdict(int))\n",
    "\n",
    "for season, id in itt.chain(*[team['seasons'].items() for team in teams.values()]):\n",
    "    seasons[season]['participants'] += 1\n",
    "    if seasons[season]['id'] == 0:\n",
    "        seasons[season]['id'] = id\n",
    "    elif seasons[season]['id'] != id:\n",
    "        print(\"Season %s has multiple IDs in data! %s and %s\" % season, id, seasons[season]['id'])\n",
    "    seasons[season]['name'] = season\n"
   ]
  },
  {
   "attachments": {},
   "cell_type": "markdown",
   "metadata": {},
   "source": [
    "Finally, I go through all the seasons and collect all individual game data, recording the location, score, home and away teams"
   ]
  },
  {
   "cell_type": "code",
   "execution_count": 12,
   "metadata": {},
   "outputs": [],
   "source": [
    "def parse_result_page(html, url, season_id):\n",
    "    gameid_pattern = re.compile(\"https\\:\\/\\/lkl\\.lt\\/rungtynes\\/(\\d+)\")\n",
    "    gamescore_pattern = re.compile(\"(\\d+) - (\\d+)\")    \n",
    "\n",
    "    games = []\n",
    "    for game in html.find_all(\"div\", class_=\"result-item\"):\n",
    "        if 'font-semibold' in game.find_previous_sibling('div').get(\"class\"):\n",
    "            date = game.find_previous_sibling('div').text\n",
    "        gameinfo = {\"season_id\" : season_id, 'date': datetime.datetime.strptime(date, '%Y m. %B %d d. (%A)')}\n",
    "        \n",
    "        #get location\n",
    "        try:\n",
    "            gameinfo['location'] = game.find(\"div\", class_=\"location\").text.strip()\n",
    "        except:\n",
    "            gameinfo['location'] = None\n",
    "        \n",
    "        #get game id \n",
    "        result = game.find(\"span\", class_=\"result\").find(\"a\")\n",
    "        idmatch = gameid_pattern.search(result['href'])\n",
    "        if idmatch:\n",
    "            gameinfo['game-id'] = idmatch.group(1)\n",
    "        else: \n",
    "            print(\"No game ID found for game %s (page %s)\" % result['href'], url)\n",
    "        \n",
    "        #get game score         \n",
    "        score_match = gamescore_pattern.search(result.text)\n",
    "        if score_match:\n",
    "            gameinfo['home-points'] = int(score_match.group(1))\n",
    "            gameinfo['away-points'] = int(score_match.group(2))\n",
    "        else:\n",
    "            print(\"No game score found for game %s (page %s)\" % result.text, url)\n",
    "\n",
    "        #get teams\n",
    "        links = game.find(\"div\", class_=\"battle-row\").find_all(\"a\")\n",
    "        gameinfo['home-team-url'] = links[0]['href']\n",
    "        gameinfo['home-team-name'] = links[0].text.strip()\n",
    "\n",
    "        gameinfo['away-team-url'] = links[4]['href']\n",
    "        gameinfo['away-team-name'] = links[4].text.strip()\n",
    "        games.append(gameinfo)\n",
    "    \n",
    "    return games\n",
    "\n",
    "def failsafe_int(text):\n",
    "    try: \n",
    "        return int(text)\n",
    "    except ValueError: \n",
    "        return -1"
   ]
  },
  {
   "cell_type": "code",
   "execution_count": 13,
   "metadata": {},
   "outputs": [
    {
     "data": {
      "text/plain": [
       "[{'season_id': 20042,\n",
       "  'date': datetime.datetime(2017, 6, 10, 0, 0),\n",
       "  'location': None,\n",
       "  'game-id': '393',\n",
       "  'home-points': 75,\n",
       "  'away-points': 66,\n",
       "  'home-team-url': 'https://lkl.lt/komandos/rytas',\n",
       "  'home-team-name': 'RYT',\n",
       "  'away-team-url': 'https://lkl.lt/komandos/neptunas',\n",
       "  'away-team-name': 'NEP'},\n",
       " {'season_id': 20042,\n",
       "  'date': datetime.datetime(2017, 6, 9, 0, 0),\n",
       "  'location': None,\n",
       "  'game-id': '392',\n",
       "  'home-points': 73,\n",
       "  'away-points': 68,\n",
       "  'home-team-url': 'https://lkl.lt/komandos/zalgiris',\n",
       "  'home-team-name': 'ŽAL',\n",
       "  'away-team-url': 'https://lkl.lt/komandos/7bet-lietkabelis',\n",
       "  'away-team-name': 'LIE'},\n",
       " {'season_id': 20042,\n",
       "  'date': datetime.datetime(2017, 6, 7, 0, 0),\n",
       "  'location': None,\n",
       "  'game-id': '391',\n",
       "  'home-points': 70,\n",
       "  'away-points': 65,\n",
       "  'home-team-url': 'https://lkl.lt/komandos/neptunas',\n",
       "  'home-team-name': 'NEP',\n",
       "  'away-team-url': 'https://lkl.lt/komandos/rytas',\n",
       "  'away-team-name': 'RYT'},\n",
       " {'season_id': 20042,\n",
       "  'date': datetime.datetime(2017, 6, 6, 0, 0),\n",
       "  'location': None,\n",
       "  'game-id': '390',\n",
       "  'home-points': 59,\n",
       "  'away-points': 72,\n",
       "  'home-team-url': 'https://lkl.lt/komandos/7bet-lietkabelis',\n",
       "  'home-team-name': 'LIE',\n",
       "  'away-team-url': 'https://lkl.lt/komandos/zalgiris',\n",
       "  'away-team-name': 'ŽAL'},\n",
       " {'season_id': 20042,\n",
       "  'date': datetime.datetime(2017, 6, 4, 0, 0),\n",
       "  'location': None,\n",
       "  'game-id': '389',\n",
       "  'home-points': 71,\n",
       "  'away-points': 54,\n",
       "  'home-team-url': 'https://lkl.lt/komandos/rytas',\n",
       "  'home-team-name': 'RYT',\n",
       "  'away-team-url': 'https://lkl.lt/komandos/neptunas',\n",
       "  'away-team-name': 'NEP'},\n",
       " {'season_id': 20042,\n",
       "  'date': datetime.datetime(2017, 6, 3, 0, 0),\n",
       "  'location': None,\n",
       "  'game-id': '388',\n",
       "  'home-points': 97,\n",
       "  'away-points': 58,\n",
       "  'home-team-url': 'https://lkl.lt/komandos/zalgiris',\n",
       "  'home-team-name': 'ŽAL',\n",
       "  'away-team-url': 'https://lkl.lt/komandos/7bet-lietkabelis',\n",
       "  'away-team-name': 'LIE'},\n",
       " {'season_id': 20042,\n",
       "  'date': datetime.datetime(2017, 6, 1, 0, 0),\n",
       "  'location': None,\n",
       "  'game-id': '387',\n",
       "  'home-points': 83,\n",
       "  'away-points': 70,\n",
       "  'home-team-url': 'https://lkl.lt/komandos/neptunas',\n",
       "  'home-team-name': 'NEP',\n",
       "  'away-team-url': 'https://lkl.lt/komandos/rytas',\n",
       "  'away-team-name': 'RYT'},\n",
       " {'season_id': 20042,\n",
       "  'date': datetime.datetime(2017, 5, 31, 0, 0),\n",
       "  'location': None,\n",
       "  'game-id': '386',\n",
       "  'home-points': 86,\n",
       "  'away-points': 83,\n",
       "  'home-team-url': 'https://lkl.lt/komandos/7bet-lietkabelis',\n",
       "  'home-team-name': 'LIE',\n",
       "  'away-team-url': 'https://lkl.lt/komandos/zalgiris',\n",
       "  'away-team-name': 'ŽAL'},\n",
       " {'season_id': 20042,\n",
       "  'date': datetime.datetime(2017, 5, 29, 0, 0),\n",
       "  'location': None,\n",
       "  'game-id': '385',\n",
       "  'home-points': 79,\n",
       "  'away-points': 60,\n",
       "  'home-team-url': 'https://lkl.lt/komandos/rytas',\n",
       "  'home-team-name': 'RYT',\n",
       "  'away-team-url': 'https://lkl.lt/komandos/neptunas',\n",
       "  'away-team-name': 'NEP'},\n",
       " {'season_id': 20042,\n",
       "  'date': datetime.datetime(2017, 5, 28, 0, 0),\n",
       "  'location': None,\n",
       "  'game-id': '384',\n",
       "  'home-points': 73,\n",
       "  'away-points': 67,\n",
       "  'home-team-url': 'https://lkl.lt/komandos/zalgiris',\n",
       "  'home-team-name': 'ŽAL',\n",
       "  'away-team-url': 'https://lkl.lt/komandos/7bet-lietkabelis',\n",
       "  'away-team-name': 'LIE'}]"
      ]
     },
     "execution_count": 13,
     "metadata": {},
     "output_type": "execute_result"
    }
   ],
   "source": [
    "firstpage = requests.get(\"https://lkl.lt/loadResults\", params = {\n",
    "        \"team\": \"-\",\n",
    "        \"month\": \"-\",\n",
    "        \"season\" : 9225,\n",
    "        \"page\" : 1\n",
    "    })\n",
    "html = BeautifulSoup(firstpage.text, 'lxml')\n",
    "parse_result_page(html=html, url = firstpage.url, season_id=20042)"
   ]
  },
  {
   "cell_type": "code",
   "execution_count": 14,
   "metadata": {},
   "outputs": [
    {
     "name": "stderr",
     "output_type": "stream",
     "text": [
      "100%|██████████| 38/38 [04:20<00:00,  6.86s/it]\n"
     ]
    }
   ],
   "source": [
    "\n",
    "all_games = []\n",
    "for season in tqdm(seasons.values()):\n",
    "    #get the first page of the results \n",
    "    params = {\n",
    "        \"team\": \"-\",\n",
    "        \"month\": \"-\",\n",
    "        \"season\" : season['id'],\n",
    "        \"page\" : 1\n",
    "    }\n",
    "    firstpage = requests.get(\"https://lkl.lt/loadResults\", params=params)\n",
    "    html = BeautifulSoup(firstpage.text, 'lxml')\n",
    "    \n",
    "    #parse the games in the first page\n",
    "    games = parse_result_page(html=html, url = firstpage.url, season_id=season['id'])\n",
    "    all_games += games\n",
    "    \n",
    "    #get number of pages\n",
    "    page_numbers = [failsafe_int(p.text) for p in html.find_all(class_= \"page-link\")]\n",
    "    if page_numbers:\n",
    "        max_page = max(page_numbers)\n",
    "\n",
    "        #parse all subsequent pages \n",
    "        for pageNo in range(2, max_page + 1):\n",
    "            params['page'] = pageNo\n",
    "            page = requests.get(\"https://lkl.lt/loadResults\", params=params)\n",
    "            html = BeautifulSoup(page.text, 'lxml')\n",
    "            games = parse_result_page(html=html, url = page.url, season_id=season['id'])\n",
    "            all_games += games    "
   ]
  },
  {
   "attachments": {},
   "cell_type": "markdown",
   "metadata": {},
   "source": [
    "## Organizing collected information\n",
    "\n",
    "In this section I:\n",
    " - Add team abbreviations to the known team list\n",
    " - Add teams that are observed in the historical data but no longer play in the championship to the team list\n",
    " - Reorganize data into a better structure and save to a SQLite database"
   ]
  },
  {
   "attachments": {},
   "cell_type": "markdown",
   "metadata": {},
   "source": [
    "### Adding team abbreviations to current teams"
   ]
  },
  {
   "cell_type": "code",
   "execution_count": 15,
   "metadata": {},
   "outputs": [],
   "source": [
    "home_teams = set([(g['home-team-url'], g['home-team-name']) for g in all_games])\n",
    "away_teams = set([(g['away-team-url'], g['away-team-name']) for g in all_games])\n",
    "all_teams = home_teams.union(away_teams)\n",
    "\n",
    "team_dict = dict(all_teams)\n",
    "for team in teams.values():\n",
    "    team['abbreviation'] = team_dict[team['homepage']]\n",
    "    team['current_team'] = True\n"
   ]
  },
  {
   "attachments": {},
   "cell_type": "markdown",
   "metadata": {},
   "source": [
    "### Adding missing teams to the list (and giving them \"fake\" IDs for consistency)"
   ]
  },
  {
   "cell_type": "code",
   "execution_count": 16,
   "metadata": {},
   "outputs": [],
   "source": [
    "all_current_teams = set([(t['homepage'], t['abbreviation']) for t in teams.values()])\n",
    "no_longer_playing_teams = all_teams.difference(all_current_teams)\n",
    "\n",
    "i = 999\n",
    "for team_url, team_abbr in no_longer_playing_teams:\n",
    "    name = team_abbr + \"_\" + str(i)\n",
    "    teams[name] = {\n",
    "        'current_team': False,\n",
    "        'homepage': team_url,\n",
    "        'abbreviation': team_abbr,\n",
    "        'id' : i,\n",
    "        'name': name,\n",
    "    }\n",
    "    i += 1"
   ]
  },
  {
   "attachments": {},
   "cell_type": "markdown",
   "metadata": {},
   "source": [
    "### Organizing all the data and saving it"
   ]
  },
  {
   "cell_type": "code",
   "execution_count": 17,
   "metadata": {},
   "outputs": [],
   "source": [
    "teams_df = pd.DataFrame(teams.values())\n",
    "games_df = pd.DataFrame(all_games)\n",
    "seasons_df = pd.DataFrame(seasons.values())\n",
    "\n",
    "teams_df.drop(['seasons'], axis=1, inplace=True)\n",
    "seasons_df.drop(['participants'], axis=1, inplace=True)"
   ]
  },
  {
   "attachments": {},
   "cell_type": "markdown",
   "metadata": {},
   "source": [
    "#### Organizing games"
   ]
  },
  {
   "cell_type": "code",
   "execution_count": 18,
   "metadata": {},
   "outputs": [],
   "source": [
    "with_home = pd.merge(games_df, teams_df, left_on=['home-team-url', 'home-team-name'], right_on=['homepage', 'abbreviation']).rename({\"id\": \"home-team-id\"}, axis=1)\n",
    "with_away = pd.merge(with_home, teams_df, left_on=['away-team-url', 'away-team-name'], right_on=['homepage', 'abbreviation']).rename({\"id\": \"away-team-id\"}, axis=1)\n",
    "\n",
    "cols_of_interest = ['season_id', 'location', 'game-id', 'home-points', 'away-points', 'home-team-id', 'away-team-id', 'date']\n",
    "clean_game_df = with_away[cols_of_interest]"
   ]
  },
  {
   "attachments": {},
   "cell_type": "markdown",
   "metadata": {},
   "source": [
    "#### Parsing season information"
   ]
  },
  {
   "cell_type": "code",
   "execution_count": 19,
   "metadata": {},
   "outputs": [],
   "source": [
    "yrs = seasons_df['name'].str.extract(\"(\\d+)-?(\\d+)?\")\n",
    "seasons_df['start-year'] = yrs[0]\n",
    "seasons_df['end-year'] = yrs[1]\n",
    "\n",
    "seasons_df['Regular'] = ~seasons_df['name'].str.contains(\"KMT\")\n",
    "seasons_df.replace(pd.NA, None, inplace=True)"
   ]
  },
  {
   "attachments": {},
   "cell_type": "markdown",
   "metadata": {},
   "source": [
    "### Saving to SQlite"
   ]
  },
  {
   "cell_type": "code",
   "execution_count": 20,
   "metadata": {},
   "outputs": [],
   "source": [
    "with sq.connect(DB_PATH) as conn:\n",
    "    teams_df.to_sql(\"teams\", conn, if_exists='replace', index=False) \n",
    "    clean_game_df.to_sql(\"games\", conn, if_exists='replace', index=False) \n",
    "    seasons_df.to_sql(\"seasons\", conn, if_exists='replace', index=False) "
   ]
  },
  {
   "cell_type": "code",
   "execution_count": null,
   "metadata": {},
   "outputs": [],
   "source": []
  }
 ],
 "metadata": {
  "interpreter": {
   "hash": "9a0eed5a239e5616891a884969c665ca0b86fc2fde1f66977325082d5a2189cd"
  },
  "kernelspec": {
   "display_name": "Python 3.9.12 ('homecourt')",
   "language": "python",
   "name": "python3"
  },
  "language_info": {
   "codemirror_mode": {
    "name": "ipython",
    "version": 3
   },
   "file_extension": ".py",
   "mimetype": "text/x-python",
   "name": "python",
   "nbconvert_exporter": "python",
   "pygments_lexer": "ipython3",
   "version": "3.11.0"
  },
  "orig_nbformat": 4
 },
 "nbformat": 4,
 "nbformat_minor": 2
}
